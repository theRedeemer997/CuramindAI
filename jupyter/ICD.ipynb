{
 "cells": [
  {
   "cell_type": "code",
   "execution_count": 39,
   "id": "8fc1a41d",
   "metadata": {},
   "outputs": [],
   "source": [
    "import pandas as pd\n",
    "from sklearn.feature_extraction.text import TfidfVectorizer\n",
    "from sklearn.metrics.pairwise import cosine_similarity"
   ]
  },
  {
   "cell_type": "markdown",
   "id": "316addb1",
   "metadata": {},
   "source": [
    "#### **Load the ICD codes dataset**"
   ]
  },
  {
   "cell_type": "code",
   "execution_count": 33,
   "id": "941698cb",
   "metadata": {},
   "outputs": [
    {
     "data": {
      "application/vnd.microsoft.datawrangler.viewer.v0+json": {
       "columns": [
        {
         "name": "index",
         "rawType": "int64",
         "type": "integer"
        },
        {
         "name": "CODE",
         "rawType": "object",
         "type": "string"
        },
        {
         "name": "SHORT DESCRIPTION (VALID ICD-10 FY2025)",
         "rawType": "object",
         "type": "string"
        },
        {
         "name": "LONG DESCRIPTION (VALID ICD-10 FY2025)",
         "rawType": "object",
         "type": "string"
        },
        {
         "name": "NF EXCL",
         "rawType": "object",
         "type": "unknown"
        }
       ],
       "ref": "16ee0b42-f0fb-47e5-aa05-2fab05ee7d60",
       "rows": [
        [
         "0",
         "A000",
         "Cholera due to Vibrio cholerae 01, biovar cholerae",
         "Cholera due to Vibrio cholerae 01, biovar cholerae",
         null
        ],
        [
         "1",
         "A001",
         "Cholera due to Vibrio cholerae 01, biovar eltor",
         "Cholera due to Vibrio cholerae 01, biovar eltor",
         null
        ],
        [
         "2",
         "A009",
         "Cholera, unspecified",
         "Cholera, unspecified",
         null
        ],
        [
         "3",
         "A0100",
         "Typhoid fever, unspecified",
         "Typhoid fever, unspecified",
         null
        ],
        [
         "4",
         "A0101",
         "Typhoid meningitis",
         "Typhoid meningitis",
         null
        ]
       ],
       "shape": {
        "columns": 4,
        "rows": 5
       }
      },
      "text/html": [
       "<div>\n",
       "<style scoped>\n",
       "    .dataframe tbody tr th:only-of-type {\n",
       "        vertical-align: middle;\n",
       "    }\n",
       "\n",
       "    .dataframe tbody tr th {\n",
       "        vertical-align: top;\n",
       "    }\n",
       "\n",
       "    .dataframe thead th {\n",
       "        text-align: right;\n",
       "    }\n",
       "</style>\n",
       "<table border=\"1\" class=\"dataframe\">\n",
       "  <thead>\n",
       "    <tr style=\"text-align: right;\">\n",
       "      <th></th>\n",
       "      <th>CODE</th>\n",
       "      <th>SHORT DESCRIPTION (VALID ICD-10 FY2025)</th>\n",
       "      <th>LONG DESCRIPTION (VALID ICD-10 FY2025)</th>\n",
       "      <th>NF EXCL</th>\n",
       "    </tr>\n",
       "  </thead>\n",
       "  <tbody>\n",
       "    <tr>\n",
       "      <th>0</th>\n",
       "      <td>A000</td>\n",
       "      <td>Cholera due to Vibrio cholerae 01, biovar chol...</td>\n",
       "      <td>Cholera due to Vibrio cholerae 01, biovar chol...</td>\n",
       "      <td>NaN</td>\n",
       "    </tr>\n",
       "    <tr>\n",
       "      <th>1</th>\n",
       "      <td>A001</td>\n",
       "      <td>Cholera due to Vibrio cholerae 01, biovar eltor</td>\n",
       "      <td>Cholera due to Vibrio cholerae 01, biovar eltor</td>\n",
       "      <td>NaN</td>\n",
       "    </tr>\n",
       "    <tr>\n",
       "      <th>2</th>\n",
       "      <td>A009</td>\n",
       "      <td>Cholera, unspecified</td>\n",
       "      <td>Cholera, unspecified</td>\n",
       "      <td>NaN</td>\n",
       "    </tr>\n",
       "    <tr>\n",
       "      <th>3</th>\n",
       "      <td>A0100</td>\n",
       "      <td>Typhoid fever, unspecified</td>\n",
       "      <td>Typhoid fever, unspecified</td>\n",
       "      <td>NaN</td>\n",
       "    </tr>\n",
       "    <tr>\n",
       "      <th>4</th>\n",
       "      <td>A0101</td>\n",
       "      <td>Typhoid meningitis</td>\n",
       "      <td>Typhoid meningitis</td>\n",
       "      <td>NaN</td>\n",
       "    </tr>\n",
       "  </tbody>\n",
       "</table>\n",
       "</div>"
      ],
      "text/plain": [
       "    CODE            SHORT DESCRIPTION (VALID ICD-10 FY2025)  \\\n",
       "0   A000  Cholera due to Vibrio cholerae 01, biovar chol...   \n",
       "1   A001    Cholera due to Vibrio cholerae 01, biovar eltor   \n",
       "2   A009                               Cholera, unspecified   \n",
       "3  A0100                         Typhoid fever, unspecified   \n",
       "4  A0101                                 Typhoid meningitis   \n",
       "\n",
       "              LONG DESCRIPTION (VALID ICD-10 FY2025) NF EXCL  \n",
       "0  Cholera due to Vibrio cholerae 01, biovar chol...     NaN  \n",
       "1    Cholera due to Vibrio cholerae 01, biovar eltor     NaN  \n",
       "2                               Cholera, unspecified     NaN  \n",
       "3                         Typhoid fever, unspecified     NaN  \n",
       "4                                 Typhoid meningitis     NaN  "
      ]
     },
     "metadata": {},
     "output_type": "display_data"
    }
   ],
   "source": [
    "\n",
    "icd_data = pd.read_excel(\"../data/icd/icd.xlsx\")\n",
    "display(icd_data.head())"
   ]
  },
  {
   "cell_type": "markdown",
   "id": "7edfa2c5",
   "metadata": {},
   "source": [
    "#### Display the columns in the dataset"
   ]
  },
  {
   "cell_type": "code",
   "execution_count": 13,
   "id": "e8ac4238",
   "metadata": {},
   "outputs": [
    {
     "data": {
      "text/plain": [
       "Index(['CODE', 'SHORT DESCRIPTION (VALID ICD-10 FY2025)',\n",
       "       'LONG DESCRIPTION (VALID ICD-10 FY2025)', 'NF EXCL'],\n",
       "      dtype='object')"
      ]
     },
     "execution_count": 13,
     "metadata": {},
     "output_type": "execute_result"
    }
   ],
   "source": [
    "# list the columns\n",
    "icd_data.columns"
   ]
  },
  {
   "cell_type": "markdown",
   "id": "7f32b9e6",
   "metadata": {},
   "source": [
    "#### Display the information about the dataset"
   ]
  },
  {
   "cell_type": "code",
   "execution_count": 14,
   "id": "15f5bcb0",
   "metadata": {},
   "outputs": [
    {
     "name": "stdout",
     "output_type": "stream",
     "text": [
      "<class 'pandas.core.frame.DataFrame'>\n",
      "RangeIndex: 73427 entries, 0 to 73426\n",
      "Data columns (total 4 columns):\n",
      " #   Column                                   Non-Null Count  Dtype \n",
      "---  ------                                   --------------  ----- \n",
      " 0   CODE                                     73427 non-null  object\n",
      " 1   SHORT DESCRIPTION (VALID ICD-10 FY2025)  73427 non-null  object\n",
      " 2   LONG DESCRIPTION (VALID ICD-10 FY2025)   73425 non-null  object\n",
      " 3   NF EXCL                                  4599 non-null   object\n",
      "dtypes: object(4)\n",
      "memory usage: 2.2+ MB\n"
     ]
    }
   ],
   "source": [
    "icd_data.info()"
   ]
  },
  {
   "cell_type": "markdown",
   "id": "323aa092",
   "metadata": {},
   "source": [
    "#### Drop the columns `NF EXCL` as it is not relavant"
   ]
  },
  {
   "cell_type": "code",
   "execution_count": 18,
   "id": "61c4a953",
   "metadata": {},
   "outputs": [],
   "source": [
    "cleaned_df = icd_data.drop(\"NF EXCL\", axis=1)"
   ]
  },
  {
   "cell_type": "markdown",
   "id": "23188a4b",
   "metadata": {},
   "source": [
    "#### Check for null values in the cleaned dataset"
   ]
  },
  {
   "cell_type": "code",
   "execution_count": 21,
   "id": "fdcfbb1a",
   "metadata": {},
   "outputs": [
    {
     "name": "stdout",
     "output_type": "stream",
     "text": [
      "Null values per column:\n",
      "CODE                                       0\n",
      "SHORT DESCRIPTION (VALID ICD-10 FY2025)    0\n",
      "LONG DESCRIPTION (VALID ICD-10 FY2025)     2\n",
      "dtype: int64\n",
      "\n",
      "Total null values in dataset: 2\n"
     ]
    }
   ],
   "source": [
    "# Check for null values\n",
    "print(\"Null values per column:\")\n",
    "print(cleaned_df.isnull().sum())\n",
    "print(\"\\nTotal null values in dataset:\", cleaned_df.isnull().sum().sum())"
   ]
  },
  {
   "cell_type": "markdown",
   "id": "8274e258",
   "metadata": {},
   "source": [
    "#### Check for duplicate rows in the cleaned dataset"
   ]
  },
  {
   "cell_type": "code",
   "execution_count": 20,
   "id": "2b9a96d7",
   "metadata": {},
   "outputs": [
    {
     "name": "stdout",
     "output_type": "stream",
     "text": [
      "Number of duplicate rows: 0\n",
      "Total rows in dataset: 73427\n",
      "No duplicate rows found.\n"
     ]
    }
   ],
   "source": [
    "# Check for duplicate rows\n",
    "print(\"Number of duplicate rows:\", cleaned_df.duplicated().sum())\n",
    "print(\"Total rows in dataset:\", len(cleaned_df))\n",
    "\n",
    "# If there are duplicates, show them\n",
    "if cleaned_df.duplicated().sum() > 0:\n",
    "    print(\"\\nDuplicate rows:\")\n",
    "    duplicate_rows = cleaned_df[cleaned_df.duplicated(keep=False)]\n",
    "    display(duplicate_rows.sort_values(by=cleaned_df.columns[0]))\n",
    "else:\n",
    "    print(\"No duplicate rows found.\")"
   ]
  },
  {
   "cell_type": "markdown",
   "id": "402ddf26",
   "metadata": {},
   "source": [
    "#### Data Quality Summary"
   ]
  },
  {
   "cell_type": "code",
   "execution_count": 22,
   "id": "9e82758f",
   "metadata": {},
   "outputs": [
    {
     "name": "stdout",
     "output_type": "stream",
     "text": [
      "=== DATA QUALITY SUMMARY ===\n",
      "Total rows: 73427\n",
      "Total columns: 3\n",
      "Total null values: 2\n",
      "Total duplicate rows: 0\n",
      "Memory usage: 21868.79 KB\n",
      "\n",
      "Cleaned dataset shape: (73427, 3)\n",
      "Columns in cleaned dataset: ['CODE', 'SHORT DESCRIPTION (VALID ICD-10 FY2025)', 'LONG DESCRIPTION (VALID ICD-10 FY2025)']\n"
     ]
    }
   ],
   "source": [
    "# Data quality summary\n",
    "print(\"=== DATA QUALITY SUMMARY ===\")\n",
    "print(f\"Total rows: {len(cleaned_df)}\")\n",
    "print(f\"Total columns: {len(cleaned_df.columns)}\")\n",
    "print(f\"Total null values: {cleaned_df.isnull().sum().sum()}\")\n",
    "print(f\"Total duplicate rows: {cleaned_df.duplicated().sum()}\")\n",
    "print(f\"Memory usage: {cleaned_df.memory_usage(deep=True).sum() / 1024:.2f} KB\")\n",
    "\n",
    "# Show the shape of cleaned dataset\n",
    "print(f\"\\nCleaned dataset shape: {cleaned_df.shape}\")\n",
    "print(f\"Columns in cleaned dataset: {list(cleaned_df.columns)}\")"
   ]
  },
  {
   "cell_type": "markdown",
   "id": "5d43aaec",
   "metadata": {},
   "source": [
    "#### Apply TF-IDF Vectorization"
   ]
  },
  {
   "cell_type": "code",
   "execution_count": 38,
   "id": "0950a7f4",
   "metadata": {},
   "outputs": [
    {
     "name": "stdout",
     "output_type": "stream",
     "text": [
      "TF-IDF matrix shape: (73427, 7790)\n"
     ]
    }
   ],
   "source": [
    "# Convert the 'Short Description' column into TF-IDF vectors\n",
    "vectorizer = TfidfVectorizer()\n",
    "# return 2d array\n",
    "tfidf_matrix = vectorizer.fit_transform(icd_data['SHORT DESCRIPTION (VALID ICD-10 FY2025)'])\n",
    "\n",
    "# Show shape of TF-IDF matrix\n",
    "print(\"TF-IDF matrix shape:\", tfidf_matrix.shape)"
   ]
  },
  {
   "cell_type": "markdown",
   "id": "0e5a86b3",
   "metadata": {},
   "source": [
    "#### Test by matching user input"
   ]
  },
  {
   "cell_type": "code",
   "execution_count": 45,
   "id": "f23897f4",
   "metadata": {},
   "outputs": [
    {
     "name": "stdout",
     "output_type": "stream",
     "text": [
      "🔍 Top Match: Cholera, unspecified\n",
      "🧾 ICD Code: A009\n",
      "📊 Similarity Score: 0.9588\n"
     ]
    }
   ],
   "source": [
    "# Simulate user input\n",
    "user_input = \"Cholera\"\n",
    "\n",
    "# Vectorize user input\n",
    "query_vec = vectorizer.transform([user_input])\n",
    "\n",
    "# Compute cosine similarity with all ICD descriptions\n",
    "sim_scores = cosine_similarity(query_vec, tfidf_matrix)[0]\n",
    "\n",
    "# Get best match index and score\n",
    "top_idx = sim_scores.argmax()\n",
    "top_score = sim_scores[top_idx]\n",
    "\n",
    "# Print results\n",
    "if top_score >= 0.5:\n",
    "    top_match = icd_data.iloc[top_idx]['SHORT DESCRIPTION (VALID ICD-10 FY2025)']\n",
    "    top_code = icd_data.iloc[top_idx]['CODE']\n",
    "    print(\"🔍 Top Match:\", top_match)\n",
    "    print(\"🧾 ICD Code:\", top_code)\n",
    "    print(\"📊 Similarity Score:\", round(top_score, 4))\n",
    "else:\n",
    "    print(f\"❌ No confident match found. Score = {top_score:.4f}\")\n"
   ]
  }
 ],
 "metadata": {
  "kernelspec": {
   "display_name": ".venv",
   "language": "python",
   "name": "python3"
  },
  "language_info": {
   "codemirror_mode": {
    "name": "ipython",
    "version": 3
   },
   "file_extension": ".py",
   "mimetype": "text/x-python",
   "name": "python",
   "nbconvert_exporter": "python",
   "pygments_lexer": "ipython3",
   "version": "3.11.9"
  }
 },
 "nbformat": 4,
 "nbformat_minor": 5
}
